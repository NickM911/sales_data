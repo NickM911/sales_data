{
 "cells": [
  {
   "cell_type": "code",
   "execution_count": 1,
   "metadata": {},
   "outputs": [],
   "source": [
    "import warnings\n",
    "warnings.filterwarnings('ignore') # Import warnings to avoid SSL cert error\n",
    "\n",
    "import ast, sys, string, re, os, json # from python standard library\n",
    "from ast import literal_eval\n",
    "from collections import OrderedDict\n",
    "\n",
    "import pandas as pd # data formatting and cleaning\n",
    "import numpy as np\n",
    "from mlxtend.frequent_patterns import apriori # specific algo. we're using to compute association rules\n",
    "from mlxtend.frequent_patterns import association_rules "
   ]
  },
  {
   "cell_type": "markdown",
   "metadata": {},
   "source": [
    "# PART 1: DATA"
   ]
  },
  {
   "cell_type": "markdown",
   "metadata": {},
   "source": [
    "### Import data and clean"
   ]
  },
  {
   "cell_type": "code",
   "execution_count": 2,
   "metadata": {},
   "outputs": [],
   "source": [
    "sales_data = pd.read_excel('France Retail.xlsx')\n",
    "sales_data = sales_data.drop(columns=['InvoiceDate', 'UnitPrice', 'CustomerID', 'Country'])\n",
    "sales_data = sales_data[sales_data['Description'] != 'POSTAGE'] # remove postal payments from orders; redundant\n",
    "sales_data.Description = sales_data.Description.str.strip() #remove leading & trailing characters\n",
    "sales_data.dropna(axis = 0, subset=['InvoiceNo'], inplace = True)\n",
    "\n",
    "# He converts invoice number to string so he can strip postal and credit transactions from basket\n",
    "sales_data.InvoiceNo = sales_data['InvoiceNo'].astype('str')\n",
    "sales_data = sales_data[~sales_data['InvoiceNo'].str.contains('C')] # removes credit card Tx\n",
    "sales_data['InvoiceNo'] = pd.to_numeric(sales_data['InvoiceNo']).astype(np.int64)\n",
    "# MAKE MY OWN STOCK IDs SINCE SALES DATA IS POOR QUALITY\n",
    "sales_data['Stock_ID'] = sales_data.groupby(sales_data['Description']).grouper.group_info[0]\n",
    "sales_data = sales_data.drop(columns=['StockCode'])"
   ]
  },
  {
   "cell_type": "code",
   "execution_count": 3,
   "metadata": {},
   "outputs": [],
   "source": [
    "stock_lookup = sales_data.drop(columns=['InvoiceNo', 'Quantity'])\n",
    "stock_lookup['Stock_ID'] = stock_lookup['Stock_ID'].drop_duplicates()\n",
    "stock_lookup['Description'] = stock_lookup['Description'].drop_duplicates()\n",
    "stock_lookup.dropna(axis = 0, subset=['Stock_ID'], inplace = True)\n",
    "sales_data.dropna(axis = 0, subset=['Description'], inplace = True)\n",
    "stock_lookup['Stock_ID'] = stock_lookup['Stock_ID'].astype(int)"
   ]
  },
  {
   "cell_type": "code",
   "execution_count": 4,
   "metadata": {},
   "outputs": [
    {
     "data": {
      "text/html": [
       "<div>\n",
       "<style scoped>\n",
       "    .dataframe tbody tr th:only-of-type {\n",
       "        vertical-align: middle;\n",
       "    }\n",
       "\n",
       "    .dataframe tbody tr th {\n",
       "        vertical-align: top;\n",
       "    }\n",
       "\n",
       "    .dataframe thead th {\n",
       "        text-align: right;\n",
       "    }\n",
       "</style>\n",
       "<table border=\"1\" class=\"dataframe\">\n",
       "  <thead>\n",
       "    <tr style=\"text-align: right;\">\n",
       "      <th></th>\n",
       "      <th>Description</th>\n",
       "      <th>Stock_ID</th>\n",
       "    </tr>\n",
       "  </thead>\n",
       "  <tbody>\n",
       "    <tr>\n",
       "      <th>0</th>\n",
       "      <td>ALARM CLOCK BAKELIKE PINK</td>\n",
       "      <td>64</td>\n",
       "    </tr>\n",
       "    <tr>\n",
       "      <th>1</th>\n",
       "      <td>ALARM CLOCK BAKELIKE RED</td>\n",
       "      <td>65</td>\n",
       "    </tr>\n",
       "    <tr>\n",
       "      <th>2</th>\n",
       "      <td>ALARM CLOCK BAKELIKE GREEN</td>\n",
       "      <td>61</td>\n",
       "    </tr>\n",
       "    <tr>\n",
       "      <th>3</th>\n",
       "      <td>PANDA AND BUNNIES STICKER SHEET</td>\n",
       "      <td>857</td>\n",
       "    </tr>\n",
       "    <tr>\n",
       "      <th>4</th>\n",
       "      <td>STARS GIFT TAPE</td>\n",
       "      <td>1337</td>\n",
       "    </tr>\n",
       "    <tr>\n",
       "      <th>...</th>\n",
       "      <td>...</td>\n",
       "      <td>...</td>\n",
       "    </tr>\n",
       "    <tr>\n",
       "      <th>1557</th>\n",
       "      <td>DOORMAT FAIRY CAKE</td>\n",
       "      <td>375</td>\n",
       "    </tr>\n",
       "    <tr>\n",
       "      <th>1558</th>\n",
       "      <td>SKULLS STORAGE BOX LARGE</td>\n",
       "      <td>1286</td>\n",
       "    </tr>\n",
       "    <tr>\n",
       "      <th>1559</th>\n",
       "      <td>SNACK TRAY I LOVE LONDON</td>\n",
       "      <td>1307</td>\n",
       "    </tr>\n",
       "    <tr>\n",
       "      <th>1560</th>\n",
       "      <td>SET OF 6 RIBBONS PERFECTLY PRETTY</td>\n",
       "      <td>1221</td>\n",
       "    </tr>\n",
       "    <tr>\n",
       "      <th>1561</th>\n",
       "      <td>VICTORIAN SEWING BOX LARGE</td>\n",
       "      <td>1428</td>\n",
       "    </tr>\n",
       "  </tbody>\n",
       "</table>\n",
       "<p>1562 rows × 2 columns</p>\n",
       "</div>"
      ],
      "text/plain": [
       "                            Description  Stock_ID\n",
       "0             ALARM CLOCK BAKELIKE PINK        64\n",
       "1              ALARM CLOCK BAKELIKE RED        65\n",
       "2            ALARM CLOCK BAKELIKE GREEN        61\n",
       "3       PANDA AND BUNNIES STICKER SHEET       857\n",
       "4                       STARS GIFT TAPE      1337\n",
       "...                                 ...       ...\n",
       "1557                 DOORMAT FAIRY CAKE       375\n",
       "1558           SKULLS STORAGE BOX LARGE      1286\n",
       "1559           SNACK TRAY I LOVE LONDON      1307\n",
       "1560  SET OF 6 RIBBONS PERFECTLY PRETTY      1221\n",
       "1561         VICTORIAN SEWING BOX LARGE      1428\n",
       "\n",
       "[1562 rows x 2 columns]"
      ]
     },
     "execution_count": 4,
     "metadata": {},
     "output_type": "execute_result"
    }
   ],
   "source": [
    "stock_lookup.reset_index(inplace=True, drop=True)\n",
    "stock_lookup"
   ]
  },
  {
   "cell_type": "markdown",
   "metadata": {},
   "source": [
    "### Compute association rules"
   ]
  },
  {
   "cell_type": "code",
   "execution_count": 5,
   "metadata": {},
   "outputs": [],
   "source": [
    "# COMPUTE RULES \n",
    "def generate_rules(transactions = sales_data): \n",
    "    \"\"\"This nesting function takes your transaction data and returns association rules. \n",
    "    This nested functions includes like data formatting, rule computing, and rule table processing.\"\"\"\n",
    "\n",
    "    def encoder(x):\n",
    "        \"\"\"Necessary to process data in right format for our mlxtend package\"\"\"\n",
    "        if x <= 0:\n",
    "            return 0\n",
    "        else: # if x >= 1\n",
    "            return 1\n",
    "\n",
    "    def create_transaction_data(transactions): \n",
    "        \"\"\"Function takes your transaction data as an argument, and turns into transaction object that market basket analysis can be \n",
    "        conducted on. It requires, at minimum, a transaction ID and ID of item.\"\"\"    \n",
    "        transaction_basket = transactions.groupby(['InvoiceNo', 'Stock_ID'])['Quantity'].sum()\n",
    "        transaction_basket = transaction_basket.unstack()\n",
    "        transaction_basket = transaction_basket.reset_index()\n",
    "        transaction_basket = transaction_basket.fillna(0)\n",
    "        transaction_basket = transaction_basket.set_index('InvoiceNo')\n",
    "        transaction_basket = transaction_basket.applymap(encoder)\n",
    "        return(transaction_basket)\n",
    "\n",
    "    def compute_rules(basket):\n",
    "        \"\"\"Computes association rules, which are necessary to make team suggestions. Returns rules as dataframe\"\"\"\n",
    "        \n",
    "        frequent_itemsets = apriori(basket, \n",
    "                       min_support= 0.001, # smaller support, more expensive and time consuming to run\n",
    "                            # unfortunately, for our dataset, a larger support threshold means no rules are accepted \n",
    "                       use_colnames= True, \n",
    "                       max_len = 2)\n",
    "\n",
    "        rules = association_rules(frequent_itemsets, \n",
    "                             metric = 'lift',\n",
    "                             min_threshold=1) \n",
    "        \n",
    "        rules = rules.sort_values(by='lift', ascending = False)\n",
    "        rules = rules.reset_index()\n",
    "        rules = rules[rules['antecedents'].apply(lambda x: len(x) < 2)] # remove ANTECEDENTS/LHS with more than 1 products\n",
    "        # REASON WE DO THIS IS BECAUSE WE ONLY ALLOW ONE PRODUCT TEAM TO BE SELECTED AT A TIME!\n",
    "        rules['LHS'] = ([tuple(x) for x in list(rules.antecedents)]) \n",
    "        # convert from frozen set to tuple: need to modify but frozensets are immutable\n",
    "        rules.LHS = rules.LHS.astype(str) # convert to string so we can remove punctuation\n",
    "        rules.LHS = rules.LHS.str.split(\",\", expand=True) # split string on comma so we can remove punctuation \n",
    "        rules.LHS= rules.LHS.str.replace(re.escape('('), '') # remove punctuation\n",
    "        rules.LHS = (rules.LHS).astype(int) # convert to integer\n",
    "        \n",
    "        rules['RHS'] = ([tuple(x) for x in list(rules.consequents)])\n",
    "        rules = rules.drop(columns={'index', 'antecedent support', 'consequent support', 'leverage', 'conviction', 'antecedents', 'consequents'})\n",
    "        # strip the comma from LHS: it's only ever going to be one item so can remove the comma and leave it as integer variable\n",
    "        \n",
    "        \n",
    "        rules['support'] = rules['support'].round(decimals=5) # need 5 dp otherwise they all get same support\n",
    "        rules['lift'] = rules['lift'].astype(int) # can just have this as an integer, no need for precise decimal points\n",
    "        rules['RHS'] = rules['RHS'].astype(str) # convert tuple field to string, since it's a varchar field in DB table\n",
    "\n",
    "        # CREATING A COUNT COLUMN TO OBSERVE HOW MANY TIMES WE OBSERVE AN ASSOCIATION RULE IN DATA\n",
    "        counts = rules['support']*len(basket) # support is simply no. of occurences divided by total transactions\n",
    "        rules.insert(column = 'count', value = counts, loc = 5) # add count column to rules_count df\n",
    "        rules['count'] = rules['count'].astype(int) \n",
    "        rules = rules.sort_values(['count'], ascending = [False])\n",
    "        rules = rules[rules['count'] > 2] \n",
    "        # convert all col names to upper case\n",
    "        rules.columns = map(str.upper, rules.columns)\n",
    "\n",
    "        return(rules)\n",
    "                                                                              \n",
    "    basket = create_transaction_data(sales_data) # format transaction data in right format for mlxtend package \n",
    "    rules = compute_rules(basket) # compute association rules, which are used to make suggestions\n",
    "    return(rules)\n",
    "                                                                                  \n",
    "                                                                              "
   ]
  },
  {
   "cell_type": "code",
   "execution_count": 6,
   "metadata": {},
   "outputs": [],
   "source": [
    "rules = generate_rules(sales_data)"
   ]
  },
  {
   "cell_type": "code",
   "execution_count": 530,
   "metadata": {},
   "outputs": [
    {
     "data": {
      "text/html": [
       "<div>\n",
       "<style scoped>\n",
       "    .dataframe tbody tr th:only-of-type {\n",
       "        vertical-align: middle;\n",
       "    }\n",
       "\n",
       "    .dataframe tbody tr th {\n",
       "        vertical-align: top;\n",
       "    }\n",
       "\n",
       "    .dataframe thead th {\n",
       "        text-align: right;\n",
       "    }\n",
       "</style>\n",
       "<table border=\"1\" class=\"dataframe\">\n",
       "  <thead>\n",
       "    <tr style=\"text-align: right;\">\n",
       "      <th></th>\n",
       "      <th>InvoiceNo</th>\n",
       "      <th>Description</th>\n",
       "      <th>Quantity</th>\n",
       "      <th>Stock_ID</th>\n",
       "    </tr>\n",
       "  </thead>\n",
       "  <tbody>\n",
       "    <tr>\n",
       "      <th>221</th>\n",
       "      <td>538008</td>\n",
       "      <td>SET/6 RED SPOTTY PAPER CUPS</td>\n",
       "      <td>12</td>\n",
       "      <td>1266</td>\n",
       "    </tr>\n",
       "  </tbody>\n",
       "</table>\n",
       "</div>"
      ],
      "text/plain": [
       "     InvoiceNo                  Description  Quantity  Stock_ID\n",
       "221     538008  SET/6 RED SPOTTY PAPER CUPS        12      1266"
      ]
     },
     "execution_count": 530,
     "metadata": {},
     "output_type": "execute_result"
    }
   ],
   "source": [
    "sales_data[sales_data['Stock_ID'] == 1266].head(1)"
   ]
  },
  {
   "cell_type": "code",
   "execution_count": 7,
   "metadata": {},
   "outputs": [
    {
     "data": {
      "text/html": [
       "<div>\n",
       "<style scoped>\n",
       "    .dataframe tbody tr th:only-of-type {\n",
       "        vertical-align: middle;\n",
       "    }\n",
       "\n",
       "    .dataframe tbody tr th {\n",
       "        vertical-align: top;\n",
       "    }\n",
       "\n",
       "    .dataframe thead th {\n",
       "        text-align: right;\n",
       "    }\n",
       "</style>\n",
       "<table border=\"1\" class=\"dataframe\">\n",
       "  <thead>\n",
       "    <tr style=\"text-align: right;\">\n",
       "      <th></th>\n",
       "      <th>SUPPORT</th>\n",
       "      <th>CONFIDENCE</th>\n",
       "      <th>LIFT</th>\n",
       "      <th>LHS</th>\n",
       "      <th>RHS</th>\n",
       "      <th>COUNT</th>\n",
       "    </tr>\n",
       "  </thead>\n",
       "  <tbody>\n",
       "    <tr>\n",
       "      <th>150235</th>\n",
       "      <td>0.12403</td>\n",
       "      <td>0.888889</td>\n",
       "      <td>6</td>\n",
       "      <td>1266</td>\n",
       "      <td>(1267,)</td>\n",
       "      <td>47</td>\n",
       "    </tr>\n",
       "    <tr>\n",
       "      <th>150232</th>\n",
       "      <td>0.12403</td>\n",
       "      <td>0.960000</td>\n",
       "      <td>6</td>\n",
       "      <td>1267</td>\n",
       "      <td>(1266,)</td>\n",
       "      <td>47</td>\n",
       "    </tr>\n",
       "    <tr>\n",
       "      <th>161669</th>\n",
       "      <td>0.10336</td>\n",
       "      <td>0.740741</td>\n",
       "      <td>5</td>\n",
       "      <td>1266</td>\n",
       "      <td>(1247,)</td>\n",
       "      <td>40</td>\n",
       "    </tr>\n",
       "    <tr>\n",
       "      <th>157229</th>\n",
       "      <td>0.10336</td>\n",
       "      <td>0.800000</td>\n",
       "      <td>5</td>\n",
       "      <td>1267</td>\n",
       "      <td>(1247,)</td>\n",
       "      <td>40</td>\n",
       "    </tr>\n",
       "    <tr>\n",
       "      <th>174877</th>\n",
       "      <td>0.10594</td>\n",
       "      <td>0.611940</td>\n",
       "      <td>4</td>\n",
       "      <td>956</td>\n",
       "      <td>(953,)</td>\n",
       "      <td>40</td>\n",
       "    </tr>\n",
       "    <tr>\n",
       "      <th>...</th>\n",
       "      <td>...</td>\n",
       "      <td>...</td>\n",
       "      <td>...</td>\n",
       "      <td>...</td>\n",
       "      <td>...</td>\n",
       "      <td>...</td>\n",
       "    </tr>\n",
       "    <tr>\n",
       "      <th>206551</th>\n",
       "      <td>0.01034</td>\n",
       "      <td>0.235294</td>\n",
       "      <td>2</td>\n",
       "      <td>241</td>\n",
       "      <td>(1026,)</td>\n",
       "      <td>4</td>\n",
       "    </tr>\n",
       "    <tr>\n",
       "      <th>96417</th>\n",
       "      <td>0.01034</td>\n",
       "      <td>0.400000</td>\n",
       "      <td>17</td>\n",
       "      <td>848</td>\n",
       "      <td>(44,)</td>\n",
       "      <td>4</td>\n",
       "    </tr>\n",
       "    <tr>\n",
       "      <th>226051</th>\n",
       "      <td>0.01034</td>\n",
       "      <td>0.108108</td>\n",
       "      <td>1</td>\n",
       "      <td>1370</td>\n",
       "      <td>(641,)</td>\n",
       "      <td>4</td>\n",
       "    </tr>\n",
       "    <tr>\n",
       "      <th>138920</th>\n",
       "      <td>0.01034</td>\n",
       "      <td>0.166667</td>\n",
       "      <td>8</td>\n",
       "      <td>972</td>\n",
       "      <td>(306,)</td>\n",
       "      <td>4</td>\n",
       "    </tr>\n",
       "    <tr>\n",
       "      <th>138358</th>\n",
       "      <td>0.01034</td>\n",
       "      <td>0.333333</td>\n",
       "      <td>8</td>\n",
       "      <td>62</td>\n",
       "      <td>(724,)</td>\n",
       "      <td>4</td>\n",
       "    </tr>\n",
       "  </tbody>\n",
       "</table>\n",
       "<p>8104 rows × 6 columns</p>\n",
       "</div>"
      ],
      "text/plain": [
       "        SUPPORT  CONFIDENCE  LIFT   LHS      RHS  COUNT\n",
       "150235  0.12403    0.888889     6  1266  (1267,)     47\n",
       "150232  0.12403    0.960000     6  1267  (1266,)     47\n",
       "161669  0.10336    0.740741     5  1266  (1247,)     40\n",
       "157229  0.10336    0.800000     5  1267  (1247,)     40\n",
       "174877  0.10594    0.611940     4   956   (953,)     40\n",
       "...         ...         ...   ...   ...      ...    ...\n",
       "206551  0.01034    0.235294     2   241  (1026,)      4\n",
       "96417   0.01034    0.400000    17   848    (44,)      4\n",
       "226051  0.01034    0.108108     1  1370   (641,)      4\n",
       "138920  0.01034    0.166667     8   972   (306,)      4\n",
       "138358  0.01034    0.333333     8    62   (724,)      4\n",
       "\n",
       "[8104 rows x 6 columns]"
      ]
     },
     "execution_count": 7,
     "metadata": {},
     "output_type": "execute_result"
    }
   ],
   "source": [
    "rules"
   ]
  },
  {
   "cell_type": "code",
   "execution_count": 8,
   "metadata": {},
   "outputs": [],
   "source": [
    "rules.to_csv(r'C:\\Users\\NJM\\Desktop\\Computing\\Deployment\\Practice run\\Recommendation\\rules.csv', \n",
    "          index = False, \n",
    "          header = True)"
   ]
  },
  {
   "cell_type": "markdown",
   "metadata": {},
   "source": [
    "# PART 2: SUGGESTIONS"
   ]
  },
  {
   "cell_type": "code",
   "execution_count": 9,
   "metadata": {},
   "outputs": [],
   "source": [
    "# Read in rules\n",
    "rules = pd.read_csv('rules.csv', converters={\"RHS\": ast.literal_eval}) "
   ]
  },
  {
   "cell_type": "code",
   "execution_count": 10,
   "metadata": {
    "code_folding": []
   },
   "outputs": [],
   "source": [
    "def shopping_suggestions(new_item, rules = rules):    \n",
    "    \n",
    "    def query_ID(new_item):\n",
    "        \"\"\"Uses stock lookup table to check what stock ID corresponds to chosen product description\"\"\"\n",
    "        ID = stock_lookup[stock_lookup['Description'] == new_item].iloc[0][1]\n",
    "        return int(ID)     \n",
    "\n",
    "    def match(new_item, rules):\n",
    "        \"\"\"Returns rules specific to new item chosen\"\"\"\n",
    "        matched = rules[(rules.LHS.isin(new_item))]\n",
    "        matched = matched[~matched.index.duplicated(keep='last')]  # remove duplicate rows based on index (the index used in sql table)\n",
    "        matched = matched.sort_index()\n",
    "        return(matched)\n",
    "\n",
    "    def output_consequents(matched_rules):\n",
    "        \"\"\"Looks at rules specific to our new PWR, then outputs 'consequents'; these are our suggestions WITHOUT any of our specific hard-coded rules applied\"\"\"\n",
    "        consequent_teams = (x for x in list(matched_rules.RHS)) \n",
    "        consequent_teams\n",
    "        recommendations =[] \n",
    "        for i in consequent_teams: # for each tuple in the list\n",
    "            for j in i: # for each element (i.e. product team) in the tuple\n",
    "                recommendations.append(j) # add product team to unfiltered recommendations\n",
    "                recommendations = list(OrderedDict.fromkeys(recommendations)) # keep unique teams\n",
    "                recommendations = recommendations[0:3]\n",
    "        return(recommendations) \n",
    "\n",
    "    def query_name_info(recommendations):\n",
    "        recommendations = recommendations\n",
    "        suggestion_string = None\n",
    "        info_as_df = stock_lookup[stock_lookup['Stock_ID'].isin(recommendations)]\n",
    "\n",
    "        try:\n",
    "            suggestion_string = ('Customers also bought the following: ' + \n",
    "                                 info_as_df.iloc[0][0] + \n",
    "                                 ', ' \n",
    "                                 + info_as_df.iloc[1][0] + ', '\n",
    "                                 + info_as_df.iloc[2][0] + '.')\n",
    "        except KeyError: # in the event only ONE team is suggested, the error is ignored\n",
    "            suggestion_string = ('Customers also bought ' +\n",
    "                                        (info_as_df.iloc[0][0] + '. '))\n",
    "\n",
    "        return(json.dumps(suggestion_string, separators=(\". \"))) # use . and a space to separate objects in JSON string\n",
    "\n",
    "    new_item = new_item\n",
    "    new_item = [query_ID(new_item)]\n",
    "    rules = rules \n",
    "    matched_rules = match(new_item, rules)\n",
    "    recommendations = output_consequents(matched_rules)\n",
    "    try:   \n",
    "        suggestion_string = query_name_info(recommendations)\n",
    "    except: # FOR IF WE HAVE NO IDs IN recommendations This would occur if no initial teams are chosen!\n",
    "        suggestion_string = 'No relevant team recommendations available'\n",
    "    return(suggestion_string)\n"
   ]
  },
  {
   "cell_type": "code",
   "execution_count": 11,
   "metadata": {},
   "outputs": [
    {
     "data": {
      "text/plain": [
       "'\"Customers also bought the following: SET/6 RED SPOTTY PAPER PLATES, PACK OF 6 SKULL PAPER CUPS, SET/20 RED RETROSPOT PAPER NAPKINS.\"'"
      ]
     },
     "execution_count": 11,
     "metadata": {},
     "output_type": "execute_result"
    }
   ],
   "source": [
    "shopping_suggestions(new_item = \"SET/6 RED SPOTTY PAPER CUPS\", rules = rules)"
   ]
  },
  {
   "cell_type": "code",
   "execution_count": 12,
   "metadata": {},
   "outputs": [
    {
     "data": {
      "text/plain": [
       "'\"Customers also bought the following: CHILDS BREAKFAST SET SPACEBOY, PLASTERS IN TIN WOODLAND ANIMALS, PLASTERS IN TIN SPACEBOY.\"'"
      ]
     },
     "execution_count": 12,
     "metadata": {},
     "output_type": "execute_result"
    }
   ],
   "source": [
    "shopping_suggestions(new_item=\"CHILDS BREAKFAST SET DOLLY GIRL\", rules=rules)"
   ]
  },
  {
   "cell_type": "code",
   "execution_count": 579,
   "metadata": {},
   "outputs": [
    {
     "data": {
      "text/html": [
       "<div>\n",
       "<style scoped>\n",
       "    .dataframe tbody tr th:only-of-type {\n",
       "        vertical-align: middle;\n",
       "    }\n",
       "\n",
       "    .dataframe tbody tr th {\n",
       "        vertical-align: top;\n",
       "    }\n",
       "\n",
       "    .dataframe thead th {\n",
       "        text-align: right;\n",
       "    }\n",
       "</style>\n",
       "<table border=\"1\" class=\"dataframe\">\n",
       "  <thead>\n",
       "    <tr style=\"text-align: right;\">\n",
       "      <th></th>\n",
       "      <th>Description</th>\n",
       "      <th>Stock_ID</th>\n",
       "    </tr>\n",
       "  </thead>\n",
       "  <tbody>\n",
       "    <tr>\n",
       "      <th>62</th>\n",
       "      <td>CHILDS BREAKFAST SET DOLLY GIRL</td>\n",
       "      <td>266</td>\n",
       "    </tr>\n",
       "  </tbody>\n",
       "</table>\n",
       "</div>"
      ],
      "text/plain": [
       "                        Description  Stock_ID\n",
       "62  CHILDS BREAKFAST SET DOLLY GIRL       266"
      ]
     },
     "execution_count": 579,
     "metadata": {},
     "output_type": "execute_result"
    }
   ],
   "source": [
    "stock_lookup[stock_lookup['Description'] == \"CHILDS BREAKFAST SET DOLLY GIRL\"]"
   ]
  },
  {
   "cell_type": "code",
   "execution_count": 578,
   "metadata": {
    "scrolled": true
   },
   "outputs": [
    {
     "data": {
      "text/plain": [
       "Description    CHILDS BREAKFAST SET DOLLY GIRL\n",
       "Stock_ID                                   266\n",
       "Name: 62, dtype: object"
      ]
     },
     "execution_count": 578,
     "metadata": {},
     "output_type": "execute_result"
    }
   ],
   "source": [
    "stock_lookup.loc[62]"
   ]
  },
  {
   "cell_type": "markdown",
   "metadata": {},
   "source": [
    "# FOR NETWORK EXPORT ONLY"
   ]
  },
  {
   "cell_type": "code",
   "execution_count": 22,
   "metadata": {},
   "outputs": [],
   "source": [
    "sales_data = sales_data.rename(columns={'Description': \"PRODUCT_NAME\"})\n",
    "sales_data = sales_data.rename(columns={'Stock_ID': \"PROD_ID\"})\n",
    "sales_data.to_csv(r'C:\\Users\\NJM\\Desktop\\Computing\\Deployment\\Practice run\\Recommendation\\clean_transaction_data.csv', \n",
    "                  index = False, \n",
    "                  header = True, encoding='UTF-8-sig')"
   ]
  },
  {
   "cell_type": "markdown",
   "metadata": {},
   "source": [
    "# PART 3: DEPLOYMENT\n",
    "\n",
    "* imports including flask\n",
    "* model code (this'd refer to shopping suggestion)\n",
    "* Insurance example had fields (dependent variable). I guess for this one, we'd have drop down menu they select product from\n",
    "* app route that takes home html \n",
    "* app route that makes predictions. Usually it's @app.route('/predict', methods = ['POST']) but not sure what it'll be for this one\n",
    "\n",
    "<br><br>\n",
    "* https://stackoverflow.com/questions/59781313/is-possible-to-reuse-import-code-in-python\n",
    "* rules would already need to be stored, then simply referred to in git repo deployment\n",
    "* https://stackoverflow.com/questions/52443855/taking-data-from-drop-down-menu-using-flask\n",
    "* https://www.reddit.com/r/flask/comments/2fi58q/af_populate_dropdown_from_python_list/ \n",
    "* "
   ]
  }
 ],
 "metadata": {
  "kernelspec": {
   "display_name": "Python 3",
   "language": "python",
   "name": "python3"
  },
  "language_info": {
   "codemirror_mode": {
    "name": "ipython",
    "version": 3
   },
   "file_extension": ".py",
   "mimetype": "text/x-python",
   "name": "python",
   "nbconvert_exporter": "python",
   "pygments_lexer": "ipython3",
   "version": "3.7.4"
  }
 },
 "nbformat": 4,
 "nbformat_minor": 2
}
